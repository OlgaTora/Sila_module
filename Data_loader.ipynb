{
  "cells": [
    {
      "cell_type": "code",
      "execution_count": 1,
      "metadata": {
        "id": "TMOZGR6AgHlG"
      },
      "outputs": [],
      "source": [
        "import pandas as pd\n",
        "import zipfile\n",
        "import io\n",
        "import os\n",
        "import numpy as np\n",
        "import gc\n",
        "from tqdm import tqdm\n",
        "\n",
        "\n",
        "# pd.set_option('display.max_rows',None)\n",
        "# pd.set_option('display.max_columns',None)\n",
        "pd.options.display.float_format ='{:,.2f}'.format"
      ]
    },
    {
      "cell_type": "code",
      "execution_count": 2,
      "metadata": {
        "id": "mwIFIw8Q136-"
      },
      "outputs": [],
      "source": [
        "def reduce_data(df):\n",
        "    \"\"\"\n",
        "    Фунция для сокращения размерности данных путем удаления столбцов \"normalized\"\n",
        "    и приведения к меньшему типу числовых значений\n",
        "    \"\"\"\n",
        "    df.drop_duplicates(inplace=True)\n",
        "    df = df.drop(df.filter(regex=\"normalized$\").columns, axis=1)\n",
        "    num_features = df.select_dtypes(include=\"number\")\n",
        "    for col in num_features:\n",
        "        df[col] = df[col].astype(np.float64)\n",
        "    return df"
      ]
    },
    {
      "cell_type": "markdown",
      "metadata": {},
      "source": [
        "Загрузка данных из источника."
      ]
    },
    {
      "cell_type": "code",
      "execution_count": 3,
      "metadata": {
        "colab": {
          "base_uri": "https://localhost:8080/"
        },
        "id": "LlTErTL8U0in",
        "outputId": "ae6706a0-2177-4e3b-f807-2a0dedb615a8"
      },
      "outputs": [],
      "source": [
        "# !wget https://f001.backblazeb2.com/file/Backblaze-Hard-Drive-Data/data_Q1_2021.zip -d ./\n",
        "# !wget https://f001.backblazeb2.com/file/Backblaze-Hard-Drive-Data/data_Q2_2021.zip -d ./\n",
        "# !wget https://f001.backblazeb2.com/file/Backblaze-Hard-Drive-Data/data_Q3_2021.zip -d ./\n",
        "# !wget https://f001.backblazeb2.com/file/Backblaze-Hard-Drive-Data/data_Q4_2021.zip -d ./\n",
        "# !wget https://f001.backblazeb2.com/file/Backblaze-Hard-Drive-Data/data_Q1_2022.zip -d ./\n",
        "# !wget https://f001.backblazeb2.com/file/Backblaze-Hard-Drive-Data/data_Q2_2022.zip -d ./\n",
        "# !wget https://f001.backblazeb2.com/file/Backblaze-Hard-Drive-Data/data_Q3_2022.zip -d ./\n",
        "# !wget https://f001.backblazeb2.com/file/Backblaze-Hard-Drive-Data/data_Q4_2022.zip -d ./\n",
        "# !wget https://f001.backblazeb2.com/file/Backblaze-Hard-Drive-Data/data_Q1_2023.zip -d ./\n",
        "# !wget https://f001.backblazeb2.com/file/Backblaze-Hard-Drive-Data/data_Q2_2023.zip -d ./\n",
        "# !wget https://f001.backblazeb2.com/file/Backblaze-Hard-Drive-Data/data_Q3_2023.zip -d ./\n",
        "# !wget https://f001.backblazeb2.com/file/Backblaze-Hard-Drive-Data/data_Q4_2023.zip -d ./\n",
        "# !wget https://f001.backblazeb2.com/file/Backblaze-Hard-Drive-Data/data_Q1_2024.zip -d ./\n",
        "# !wget https://f001.backblazeb2.com/file/Backblaze-Hard-Drive-Data/data_Q2_2024.zip -d ./"
      ]
    },
    {
      "cell_type": "markdown",
      "metadata": {},
      "source": [
        "Распаковка архива."
      ]
    },
    {
      "cell_type": "code",
      "execution_count": 3,
      "metadata": {
        "id": "n7KxLpdHHD0v"
      },
      "outputs": [],
      "source": [
        "data = [\n",
        "    'data_Q1_2021.zip',\n",
        "    'data_Q2_2021.zip',\n",
        "    'data_Q3_2021.zip',\n",
        "    'data_Q4_2021.zip',\n",
        "    'data_Q1_2022.zip',\n",
        "    'data_Q2_2022.zip',\n",
        "    'data_Q3_2022.zip',\n",
        "    'data_Q4_2022.zip',\n",
        "    'data_Q1_2023.zip',\n",
        "    'data_Q2_2023.zip',\n",
        "    'data_Q3_2023.zip',\n",
        "    'data_Q4_2023.zip',\n",
        "    'data_Q1_2024.zip',\n",
        "    'data_Q2_2024.zip'\n",
        "    ]\n",
        "\n",
        "\n",
        "for filename in data:\n",
        "    if not os.path.exists(filename[:-4]):\n",
        "        os.makedirs(filename[:-4])\n",
        "    with zipfile.ZipFile(filename, 'r') as zip_ref:\n",
        "        zip_ref.extractall(filename[:-4])\n",
        "    gc.collect()"
      ]
    },
    {
      "cell_type": "code",
      "execution_count": 4,
      "metadata": {},
      "outputs": [],
      "source": [
        "def create_serial_nums_list(data_dir):\n",
        "  \"\"\"\n",
        "  Фунция создающая список дисков с целевой меткой 1.\n",
        "  \"\"\"\n",
        "  serial_nums = []\n",
        "  for file in data:\n",
        "    for filename in tqdm(os.listdir(file[:-4])):\n",
        "      if filename.endswith(\".csv\"):\n",
        "        gc.collect()\n",
        "        file_path = os.path.join(file[:-4], filename)\n",
        "        df = pd.read_csv(file_path, encoding='unicode_escape')\n",
        "        serial_nums.extend(df[df.failure==1].serial_number.unique())\n",
        "        serial_nums = list(set(serial_nums))\n",
        "  return serial_nums\n"
      ]
    },
    {
      "cell_type": "code",
      "execution_count": 5,
      "metadata": {},
      "outputs": [
        {
          "name": "stderr",
          "output_type": "stream",
          "text": [
            "100%|██████████| 91/91 [02:00<00:00,  1.32s/it]\n",
            "100%|██████████| 92/92 [01:57<00:00,  1.27s/it]\n",
            "100%|██████████| 93/93 [02:11<00:00,  1.41s/it]\n",
            "100%|██████████| 93/93 [02:23<00:00,  1.54s/it]\n",
            "100%|██████████| 91/91 [02:25<00:00,  1.60s/it]\n",
            "100%|██████████| 91/91 [02:34<00:00,  1.69s/it]\n",
            "100%|██████████| 93/93 [02:41<00:00,  1.74s/it]\n",
            "100%|██████████| 93/93 [02:48<00:00,  1.82s/it]\n",
            "100%|██████████| 91/91 [02:49<00:00,  1.86s/it]\n",
            "100%|██████████| 91/91 [02:50<00:00,  1.87s/it]\n",
            "100%|██████████| 93/93 [03:37<00:00,  2.34s/it]\n",
            "100%|██████████| 93/93 [03:37<00:00,  2.34s/it]\n",
            "100%|██████████| 92/92 [03:43<00:00,  2.43s/it]\n",
            "100%|██████████| 92/92 [03:52<00:00,  2.52s/it]\n"
          ]
        }
      ],
      "source": [
        "serial_nums = create_serial_nums_list(data)"
      ]
    },
    {
      "cell_type": "code",
      "execution_count": 6,
      "metadata": {},
      "outputs": [
        {
          "data": {
            "text/plain": [
              "11875"
            ]
          },
          "execution_count": 6,
          "metadata": {},
          "output_type": "execute_result"
        }
      ],
      "source": [
        "serial_nums = pd.DataFrame(list(set(serial_nums)))\n",
        "len(serial_nums)"
      ]
    },
    {
      "cell_type": "code",
      "execution_count": 8,
      "metadata": {},
      "outputs": [
        {
          "data": {
            "text/plain": [
              "0"
            ]
          },
          "execution_count": 8,
          "metadata": {},
          "output_type": "execute_result"
        }
      ],
      "source": [
        "output_path = 'app/data/serial_numbers.csv'\n",
        "serial_nums.to_csv(output_path)\n",
        "gc.collect()\n"
      ]
    },
    {
      "cell_type": "code",
      "execution_count": 12,
      "metadata": {},
      "outputs": [],
      "source": [
        "serial_nums = pd.read_csv('app/data/serial_numbers.csv')"
      ]
    },
    {
      "cell_type": "code",
      "execution_count": 9,
      "metadata": {
        "collapsed": true,
        "id": "4Ce4xIWSVqSh"
      },
      "outputs": [],
      "source": [
        "def get_buff_fromQ(data_dir):\n",
        "  \"\"\"\n",
        "  Фунция создающая датафрейм из каждого файла по условиям: диски с целевой меткой и случайно выбранные диски.\n",
        "  \"\"\"\n",
        "  buff = []\n",
        "  for filename in tqdm(os.listdir(data_dir)):\n",
        "    if filename.endswith(\".csv\"):\n",
        "      gc.collect()\n",
        "      file_path = os.path.join(data_dir, filename)\n",
        "      df = pd.read_csv(file_path, encoding='unicode_escape')\n",
        "      df = reduce_data(df[df.serial_number.isin(serial_nums['0'])])\n",
        "      buff.append(df.loc[df.failure==1])\n",
        "      buff.append(df.loc[df.failure==0].sample(15))\n",
        "      # buff.append(df.sample(10))\n",
        "  gc.collect()\n",
        "  df = pd.concat(buff, ignore_index=True)\n",
        "  return df"
      ]
    },
    {
      "cell_type": "markdown",
      "metadata": {},
      "source": [
        "Создание датасета."
      ]
    },
    {
      "cell_type": "code",
      "execution_count": 10,
      "metadata": {},
      "outputs": [],
      "source": [
        "# разделим на 2 части данные, так как не хватает памяти\n",
        "data_1 = data[:4]\n",
        "data_2 = data[4:8]\n",
        "data_3 = data[8:]"
      ]
    },
    {
      "cell_type": "code",
      "execution_count": 13,
      "metadata": {
        "colab": {
          "base_uri": "https://localhost:8080/"
        },
        "id": "vEUBMFe8fdx2",
        "outputId": "c75002b2-f9a5-4e29-87b6-06d889c8cd94"
      },
      "outputs": [
        {
          "name": "stderr",
          "output_type": "stream",
          "text": [
            "100%|██████████| 91/91 [01:53<00:00,  1.25s/it]\n",
            "100%|██████████| 92/92 [01:59<00:00,  1.30s/it]\n",
            "100%|██████████| 93/93 [02:11<00:00,  1.42s/it]\n",
            "100%|██████████| 93/93 [02:22<00:00,  1.54s/it]\n"
          ]
        }
      ],
      "source": [
        "for i, zipfile in enumerate(data_1):\n",
        "  locals()[f\"df_{i+1}\"] = get_buff_fromQ(data_dir=zipfile[:-4])\n",
        "  gc.collect()"
      ]
    },
    {
      "cell_type": "code",
      "execution_count": 14,
      "metadata": {},
      "outputs": [],
      "source": [
        "df = pd.concat([df_1, df_2, df_3, df_4], ignore_index=True)"
      ]
    },
    {
      "cell_type": "code",
      "execution_count": 15,
      "metadata": {},
      "outputs": [
        {
          "name": "stderr",
          "output_type": "stream",
          "text": [
            "100%|██████████| 91/91 [02:21<00:00,  1.56s/it]\n",
            "100%|██████████| 91/91 [02:24<00:00,  1.58s/it]\n",
            "100%|██████████| 93/93 [02:28<00:00,  1.60s/it]\n",
            "100%|██████████| 93/93 [02:33<00:00,  1.65s/it]\n"
          ]
        }
      ],
      "source": [
        "for i, zipfile in enumerate(data_2):\n",
        "  locals()[f\"df_{i+1}\"] = get_buff_fromQ(data_dir=zipfile[:-4])\n",
        "  gc.collect()"
      ]
    },
    {
      "cell_type": "code",
      "execution_count": 17,
      "metadata": {},
      "outputs": [
        {
          "data": {
            "text/plain": [
              "567"
            ]
          },
          "execution_count": 17,
          "metadata": {},
          "output_type": "execute_result"
        }
      ],
      "source": [
        "df = pd.concat([df, df_1, df_2, df_3, df_4], ignore_index=True)\n",
        "gc.collect()"
      ]
    },
    {
      "cell_type": "code",
      "execution_count": 18,
      "metadata": {},
      "outputs": [
        {
          "name": "stderr",
          "output_type": "stream",
          "text": [
            "100%|██████████| 91/91 [02:34<00:00,  1.70s/it]\n",
            "100%|██████████| 91/91 [02:41<00:00,  1.78s/it]\n",
            "100%|██████████| 93/93 [03:27<00:00,  2.23s/it]\n",
            "100%|██████████| 93/93 [03:49<00:00,  2.46s/it]\n",
            "100%|██████████| 92/92 [03:47<00:00,  2.47s/it]\n",
            "100%|██████████| 92/92 [03:57<00:00,  2.58s/it]\n"
          ]
        }
      ],
      "source": [
        "for i, zipfile in enumerate(data_3):\n",
        "  locals()[f\"df_{i+1}\"] = get_buff_fromQ(data_dir=zipfile[:-4])\n",
        "  gc.collect()"
      ]
    },
    {
      "cell_type": "code",
      "execution_count": 19,
      "metadata": {},
      "outputs": [],
      "source": [
        "df = pd.concat([df, df_1, df_2, df_3, df_4, df_5, df_6], ignore_index=True)"
      ]
    },
    {
      "cell_type": "code",
      "execution_count": 20,
      "metadata": {
        "colab": {
          "base_uri": "https://localhost:8080/"
        },
        "id": "00aSlNQEYnOa",
        "outputId": "fc4b7ac9-a41f-46e9-d72b-110984fc72d6"
      },
      "outputs": [
        {
          "data": {
            "text/plain": [
              "(31036, 104)"
            ]
          },
          "execution_count": 20,
          "metadata": {},
          "output_type": "execute_result"
        }
      ],
      "source": [
        "df.shape"
      ]
    },
    {
      "cell_type": "code",
      "execution_count": 21,
      "metadata": {
        "colab": {
          "base_uri": "https://localhost:8080/",
          "height": 178
        },
        "id": "kd17LhgaYyEH",
        "outputId": "620a5626-2ab8-48e7-b0db-df507b9a69ff"
      },
      "outputs": [
        {
          "data": {
            "text/plain": [
              "failure\n",
              "0    19155\n",
              "1    11881\n",
              "Name: count, dtype: int64"
            ]
          },
          "execution_count": 21,
          "metadata": {},
          "output_type": "execute_result"
        }
      ],
      "source": [
        "df.failure.value_counts()"
      ]
    },
    {
      "cell_type": "code",
      "execution_count": 22,
      "metadata": {
        "id": "Y-oNdVD1kKaq"
      },
      "outputs": [],
      "source": [
        "output_path = 'df_2021_2024.csv'\n",
        "df.to_csv(output_path)#, single_file=True)"
      ]
    },
    {
      "cell_type": "code",
      "execution_count": 23,
      "metadata": {
        "colab": {
          "base_uri": "https://localhost:8080/",
          "height": 278
        },
        "id": "rsnWUnllNIt_",
        "outputId": "44eea9f5-cde8-44ea-a2e5-b666c817d2a7"
      },
      "outputs": [
        {
          "data": {
            "text/html": [
              "<div>\n",
              "<style scoped>\n",
              "    .dataframe tbody tr th:only-of-type {\n",
              "        vertical-align: middle;\n",
              "    }\n",
              "\n",
              "    .dataframe tbody tr th {\n",
              "        vertical-align: top;\n",
              "    }\n",
              "\n",
              "    .dataframe thead th {\n",
              "        text-align: right;\n",
              "    }\n",
              "</style>\n",
              "<table border=\"1\" class=\"dataframe\">\n",
              "  <thead>\n",
              "    <tr style=\"text-align: right;\">\n",
              "      <th></th>\n",
              "      <th>date</th>\n",
              "      <th>serial_number</th>\n",
              "      <th>model</th>\n",
              "      <th>capacity_bytes</th>\n",
              "      <th>failure</th>\n",
              "      <th>smart_1_raw</th>\n",
              "      <th>smart_2_raw</th>\n",
              "      <th>smart_3_raw</th>\n",
              "      <th>smart_4_raw</th>\n",
              "      <th>smart_5_raw</th>\n",
              "      <th>...</th>\n",
              "      <th>is_legacy_format</th>\n",
              "      <th>smart_71_raw</th>\n",
              "      <th>smart_90_raw</th>\n",
              "      <th>datacenter</th>\n",
              "      <th>cluster_id</th>\n",
              "      <th>pod_slot_num</th>\n",
              "      <th>smart_27_raw</th>\n",
              "      <th>smart_82_raw</th>\n",
              "      <th>smart_211_raw</th>\n",
              "      <th>smart_212_raw</th>\n",
              "    </tr>\n",
              "  </thead>\n",
              "  <tbody>\n",
              "    <tr>\n",
              "      <th>0</th>\n",
              "      <td>2021-02-17</td>\n",
              "      <td>ZA153THY</td>\n",
              "      <td>ST8000NM0055</td>\n",
              "      <td>8001563222016</td>\n",
              "      <td>1</td>\n",
              "      <td>192,214,128.00</td>\n",
              "      <td>NaN</td>\n",
              "      <td>0.00</td>\n",
              "      <td>8.00</td>\n",
              "      <td>15,584.00</td>\n",
              "      <td>...</td>\n",
              "      <td>NaN</td>\n",
              "      <td>NaN</td>\n",
              "      <td>NaN</td>\n",
              "      <td>NaN</td>\n",
              "      <td>NaN</td>\n",
              "      <td>NaN</td>\n",
              "      <td>NaN</td>\n",
              "      <td>NaN</td>\n",
              "      <td>NaN</td>\n",
              "      <td>NaN</td>\n",
              "    </tr>\n",
              "    <tr>\n",
              "      <th>1</th>\n",
              "      <td>2021-02-17</td>\n",
              "      <td>40T0A007F97G</td>\n",
              "      <td>TOSHIBA MG07ACA14TA</td>\n",
              "      <td>14000519643136</td>\n",
              "      <td>1</td>\n",
              "      <td>0.00</td>\n",
              "      <td>0.00</td>\n",
              "      <td>7,832.00</td>\n",
              "      <td>22.00</td>\n",
              "      <td>1.00</td>\n",
              "      <td>...</td>\n",
              "      <td>NaN</td>\n",
              "      <td>NaN</td>\n",
              "      <td>NaN</td>\n",
              "      <td>NaN</td>\n",
              "      <td>NaN</td>\n",
              "      <td>NaN</td>\n",
              "      <td>NaN</td>\n",
              "      <td>NaN</td>\n",
              "      <td>NaN</td>\n",
              "      <td>NaN</td>\n",
              "    </tr>\n",
              "    <tr>\n",
              "      <th>2</th>\n",
              "      <td>2021-02-17</td>\n",
              "      <td>PL1331LAHBS5JH</td>\n",
              "      <td>HGST HMS5C4040BLE640</td>\n",
              "      <td>4000787030016</td>\n",
              "      <td>1</td>\n",
              "      <td>0.00</td>\n",
              "      <td>100.00</td>\n",
              "      <td>419.00</td>\n",
              "      <td>9.00</td>\n",
              "      <td>0.00</td>\n",
              "      <td>...</td>\n",
              "      <td>NaN</td>\n",
              "      <td>NaN</td>\n",
              "      <td>NaN</td>\n",
              "      <td>NaN</td>\n",
              "      <td>NaN</td>\n",
              "      <td>NaN</td>\n",
              "      <td>NaN</td>\n",
              "      <td>NaN</td>\n",
              "      <td>NaN</td>\n",
              "      <td>NaN</td>\n",
              "    </tr>\n",
              "    <tr>\n",
              "      <th>3</th>\n",
              "      <td>2021-02-17</td>\n",
              "      <td>ZA11WLX1</td>\n",
              "      <td>ST8000DM002</td>\n",
              "      <td>8001563222016</td>\n",
              "      <td>1</td>\n",
              "      <td>136,748,944.00</td>\n",
              "      <td>NaN</td>\n",
              "      <td>0.00</td>\n",
              "      <td>15.00</td>\n",
              "      <td>14,963.00</td>\n",
              "      <td>...</td>\n",
              "      <td>NaN</td>\n",
              "      <td>NaN</td>\n",
              "      <td>NaN</td>\n",
              "      <td>NaN</td>\n",
              "      <td>NaN</td>\n",
              "      <td>NaN</td>\n",
              "      <td>NaN</td>\n",
              "      <td>NaN</td>\n",
              "      <td>NaN</td>\n",
              "      <td>NaN</td>\n",
              "    </tr>\n",
              "    <tr>\n",
              "      <th>4</th>\n",
              "      <td>2021-02-17</td>\n",
              "      <td>1080A12QF9RG</td>\n",
              "      <td>TOSHIBA MG07ACA14TEY</td>\n",
              "      <td>14000519643136</td>\n",
              "      <td>1</td>\n",
              "      <td>0.00</td>\n",
              "      <td>0.00</td>\n",
              "      <td>6,992.00</td>\n",
              "      <td>34.00</td>\n",
              "      <td>0.00</td>\n",
              "      <td>...</td>\n",
              "      <td>NaN</td>\n",
              "      <td>NaN</td>\n",
              "      <td>NaN</td>\n",
              "      <td>NaN</td>\n",
              "      <td>NaN</td>\n",
              "      <td>NaN</td>\n",
              "      <td>NaN</td>\n",
              "      <td>NaN</td>\n",
              "      <td>NaN</td>\n",
              "      <td>NaN</td>\n",
              "    </tr>\n",
              "  </tbody>\n",
              "</table>\n",
              "<p>5 rows × 104 columns</p>\n",
              "</div>"
            ],
            "text/plain": [
              "         date   serial_number                 model  capacity_bytes  failure  \\\n",
              "0  2021-02-17        ZA153THY          ST8000NM0055   8001563222016        1   \n",
              "1  2021-02-17    40T0A007F97G   TOSHIBA MG07ACA14TA  14000519643136        1   \n",
              "2  2021-02-17  PL1331LAHBS5JH  HGST HMS5C4040BLE640   4000787030016        1   \n",
              "3  2021-02-17        ZA11WLX1           ST8000DM002   8001563222016        1   \n",
              "4  2021-02-17    1080A12QF9RG  TOSHIBA MG07ACA14TEY  14000519643136        1   \n",
              "\n",
              "     smart_1_raw  smart_2_raw  smart_3_raw  smart_4_raw  smart_5_raw  ...  \\\n",
              "0 192,214,128.00          NaN         0.00         8.00    15,584.00  ...   \n",
              "1           0.00         0.00     7,832.00        22.00         1.00  ...   \n",
              "2           0.00       100.00       419.00         9.00         0.00  ...   \n",
              "3 136,748,944.00          NaN         0.00        15.00    14,963.00  ...   \n",
              "4           0.00         0.00     6,992.00        34.00         0.00  ...   \n",
              "\n",
              "   is_legacy_format  smart_71_raw  smart_90_raw  datacenter  cluster_id  \\\n",
              "0               NaN           NaN           NaN         NaN         NaN   \n",
              "1               NaN           NaN           NaN         NaN         NaN   \n",
              "2               NaN           NaN           NaN         NaN         NaN   \n",
              "3               NaN           NaN           NaN         NaN         NaN   \n",
              "4               NaN           NaN           NaN         NaN         NaN   \n",
              "\n",
              "   pod_slot_num  smart_27_raw  smart_82_raw  smart_211_raw  smart_212_raw  \n",
              "0           NaN           NaN           NaN            NaN            NaN  \n",
              "1           NaN           NaN           NaN            NaN            NaN  \n",
              "2           NaN           NaN           NaN            NaN            NaN  \n",
              "3           NaN           NaN           NaN            NaN            NaN  \n",
              "4           NaN           NaN           NaN            NaN            NaN  \n",
              "\n",
              "[5 rows x 104 columns]"
            ]
          },
          "execution_count": 23,
          "metadata": {},
          "output_type": "execute_result"
        }
      ],
      "source": [
        "df.head()"
      ]
    }
  ],
  "metadata": {
    "accelerator": "GPU",
    "colab": {
      "gpuType": "T4",
      "provenance": []
    },
    "kernelspec": {
      "display_name": "Python 3",
      "name": "python3"
    },
    "language_info": {
      "codemirror_mode": {
        "name": "ipython",
        "version": 3
      },
      "file_extension": ".py",
      "mimetype": "text/x-python",
      "name": "python",
      "nbconvert_exporter": "python",
      "pygments_lexer": "ipython3",
      "version": "3.10.12"
    }
  },
  "nbformat": 4,
  "nbformat_minor": 0
}
