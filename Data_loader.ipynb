{
  "cells": [
    {
      "cell_type": "code",
      "execution_count": 1,
      "metadata": {
        "id": "TMOZGR6AgHlG"
      },
      "outputs": [],
      "source": [
        "import pandas as pd\n",
        "import zipfile\n",
        "import io\n",
        "import os\n",
        "import numpy as np\n",
        "import gc\n",
        "from tqdm import tqdm\n",
        "\n",
        "\n",
        "# pd.set_option('display.max_rows',None)\n",
        "# pd.set_option('display.max_columns',None)\n",
        "pd.options.display.float_format ='{:,.2f}'.format"
      ]
    },
    {
      "cell_type": "code",
      "execution_count": 2,
      "metadata": {
        "id": "mwIFIw8Q136-"
      },
      "outputs": [],
      "source": [
        "def reduce_data(df):\n",
        "  \"\"\"\n",
        "  Фунция для сокращения размерности данных путем удаления столбцов \"normalized\"\n",
        "  и приведения к меньшему типу числовых значений\n",
        "  \"\"\"\n",
        "  # df['capacity_bytes'] = (df['capacity_bytes'] / 1000000000000).astype(np.int64) # to terabytes\n",
        "  df = df.drop(df.filter(regex='normalized$').columns, axis=1)\n",
        "  # df = df.drop(df.columns[df.isna().all()], axis = 1) #all nan\n",
        "  num_features = df.select_dtypes(include=\"number\")\n",
        "  for el in num_features:\n",
        "        for n_type in (np.int32, np.int16, np.int8):\n",
        "            if df[el].isna().sum() == 0:\n",
        "              if (df[el] == df[el].astype(n_type)).sum() == len(df):\n",
        "                  df[el] = df[el].astype(n_type)\n",
        "  return df"
      ]
    },
    {
      "cell_type": "markdown",
      "metadata": {},
      "source": [
        "Загрузка данных из источника."
      ]
    },
    {
      "cell_type": "code",
      "execution_count": 3,
      "metadata": {
        "colab": {
          "base_uri": "https://localhost:8080/"
        },
        "id": "LlTErTL8U0in",
        "outputId": "ae6706a0-2177-4e3b-f807-2a0dedb615a8"
      },
      "outputs": [],
      "source": [
        "# !wget https://f001.backblazeb2.com/file/Backblaze-Hard-Drive-Data/data_Q1_2022.zip -d ./\n",
        "# !wget https://f001.backblazeb2.com/file/Backblaze-Hard-Drive-Data/data_Q2_2022.zip -d ./\n",
        "# !wget https://f001.backblazeb2.com/file/Backblaze-Hard-Drive-Data/data_Q3_2022.zip -d ./\n",
        "# !wget https://f001.backblazeb2.com/file/Backblaze-Hard-Drive-Data/data_Q4_2022.zip -d ./\n",
        "# !wget https://f001.backblazeb2.com/file/Backblaze-Hard-Drive-Data/data_Q1_2023.zip -d ./\n",
        "# !wget https://f001.backblazeb2.com/file/Backblaze-Hard-Drive-Data/data_Q2_2023.zip -d ./\n",
        "# !wget https://f001.backblazeb2.com/file/Backblaze-Hard-Drive-Data/data_Q3_2023.zip -d ./\n",
        "# !wget https://f001.backblazeb2.com/file/Backblaze-Hard-Drive-Data/data_Q4_2023.zip -d ./\n",
        "# !wget https://f001.backblazeb2.com/file/Backblaze-Hard-Drive-Data/data_Q1_2024.zip -d ./\n",
        "# !wget https://f001.backblazeb2.com/file/Backblaze-Hard-Drive-Data/data_Q2_2024.zip -d ./"
      ]
    },
    {
      "cell_type": "markdown",
      "metadata": {},
      "source": [
        "Распаковка архива."
      ]
    },
    {
      "cell_type": "code",
      "execution_count": 4,
      "metadata": {
        "id": "n7KxLpdHHD0v"
      },
      "outputs": [],
      "source": [
        "data = [\n",
        "    'data_Q1_2022.zip',\n",
        "    'data_Q2_2022.zip',\n",
        "    'data_Q3_2022.zip',\n",
        "    'data_Q4_2022.zip',\n",
        "    'data_Q1_2023.zip',\n",
        "    'data_Q2_2023.zip',\n",
        "    'data_Q3_2023.zip',\n",
        "    'data_Q4_2023.zip',\n",
        "    'data_Q1_2024.zip',\n",
        "    'data_Q2_2024.zip'\n",
        "    ]\n",
        "\n",
        "# for filename in data:\n",
        "#   with zipfile.ZipFile(filename, 'r') as zip_ref:\n",
        "#       zip_ref.extractall()\n",
        "#   gc.collect()"
      ]
    },
    {
      "cell_type": "code",
      "execution_count": 5,
      "metadata": {},
      "outputs": [
        {
          "data": {
            "text/plain": [
              "array(['Seagate BarraCuda 120 SSD ZA250CM10003', 'CT250MX500SSD1',\n",
              "       'WD Blue SA510 2.5 250GB', 'Seagate BarraCuda SSD ZA250CM10002',\n",
              "       'Seagate SSD', 'WDC WDS250G2B0A', 'Seagate IronWolf ZA250NM10002',\n",
              "       'MTFDDAV240TCB', 'Seagate FireCuda 120 SSD ZA500GM10001',\n",
              "       'Micron 5300 MTFDDAK480TDS', 'SSDSCKKB480G8R',\n",
              "       'Seagate BarraCuda SSD ZA500CM10002'], dtype=object)"
            ]
          },
          "execution_count": 5,
          "metadata": {},
          "output_type": "execute_result"
        }
      ],
      "source": [
        "models = pd.read_csv('models.csv')\n",
        "models_ssd_list = models[models['type'] == 'SSD'].model.unique()\n",
        "models_ssd_list"
      ]
    },
    {
      "cell_type": "code",
      "execution_count": 6,
      "metadata": {
        "id": "334fW9KAfvUD"
      },
      "outputs": [],
      "source": [
        "def append_period_col(df):\n",
        "    \"\"\"Фунция добавляющая колонку с периодои между датой начала исследования и датой\n",
        "    посленей записи по каждому диску\"\"\"\n",
        "    df[\"date\"] = pd.to_datetime(df[\"date\"])\n",
        "    first_date = pd.to_datetime(\"01-01-2022\")\n",
        "    df[\"days_between\"] = df.groupby(\"serial_number\")[\"date\"].transform(\n",
        "        lambda x: (x.max() - first_date).days\n",
        "    )\n",
        "    return df"
      ]
    },
    {
      "cell_type": "code",
      "execution_count": 7,
      "metadata": {
        "collapsed": true,
        "id": "4Ce4xIWSVqSh"
      },
      "outputs": [],
      "source": [
        "def get_buff_fromQ(data_dir):\n",
        "  \"\"\"\n",
        "  Фунция создающая датафрейм из каждого файла по условиям: диски с целевой меткой и случайно выбранные диски.\n",
        "  \"\"\"\n",
        "  buff = []\n",
        "  for filename in tqdm(os.listdir(data_dir)):\n",
        "    if filename.endswith(\".csv\"):\n",
        "      gc.collect()\n",
        "      file_path = os.path.join(data_dir, filename)\n",
        "      df = pd.read_csv(file_path, encoding='unicode_escape')\n",
        "      df = reduce_data(df)\n",
        "      buff.append(df.loc[df.failure==1])\n",
        "      # buff.append(df[df.model.isin(models_ssd_list)].sample(5))\n",
        "      buff.append(df.sample(10))\n",
        "  gc.collect()\n",
        "  df = pd.concat(buff, ignore_index=True)\n",
        "  return df"
      ]
    },
    {
      "cell_type": "markdown",
      "metadata": {},
      "source": [
        "Создание датасета."
      ]
    },
    {
      "cell_type": "code",
      "execution_count": 8,
      "metadata": {},
      "outputs": [],
      "source": [
        "# разделим на 2 части данные, так как не хватает памяти\n",
        "data_1 = data[:4]\n",
        "data_2 = data[4:]"
      ]
    },
    {
      "cell_type": "code",
      "execution_count": 9,
      "metadata": {
        "colab": {
          "base_uri": "https://localhost:8080/"
        },
        "id": "vEUBMFe8fdx2",
        "outputId": "c75002b2-f9a5-4e29-87b6-06d889c8cd94"
      },
      "outputs": [
        {
          "name": "stderr",
          "output_type": "stream",
          "text": [
            "100%|██████████| 91/91 [02:37<00:00,  1.73s/it]\n",
            "100%|██████████| 91/91 [02:33<00:00,  1.69s/it]\n",
            "100%|██████████| 93/93 [02:44<00:00,  1.76s/it]\n",
            "100%|██████████| 93/93 [02:49<00:00,  1.82s/it]\n"
          ]
        }
      ],
      "source": [
        "for i, zipfile in enumerate(data_1):\n",
        "  locals()[f\"df_{i+1}\"] = get_buff_fromQ(data_dir=zipfile[:-4])\n",
        "  gc.collect()"
      ]
    },
    {
      "cell_type": "code",
      "execution_count": 10,
      "metadata": {},
      "outputs": [],
      "source": [
        "df = pd.concat([df_1, df_2, df_3, df_4], ignore_index=True)"
      ]
    },
    {
      "cell_type": "code",
      "execution_count": 11,
      "metadata": {},
      "outputs": [
        {
          "name": "stderr",
          "output_type": "stream",
          "text": [
            "100%|██████████| 91/91 [02:49<00:00,  1.86s/it]\n",
            "100%|██████████| 91/91 [02:52<00:00,  1.90s/it]\n",
            "100%|██████████| 93/93 [03:38<00:00,  2.35s/it]\n",
            "100%|██████████| 93/93 [03:56<00:00,  2.55s/it]\n",
            "100%|██████████| 92/92 [03:43<00:00,  2.43s/it]\n",
            "100%|██████████| 92/92 [03:54<00:00,  2.55s/it]\n"
          ]
        }
      ],
      "source": [
        "for i, zipfile in enumerate(data_2):\n",
        "  locals()[f\"df_{i+1}\"] = get_buff_fromQ(data_dir=zipfile[:-4])\n",
        "  gc.collect()"
      ]
    },
    {
      "cell_type": "code",
      "execution_count": 12,
      "metadata": {},
      "outputs": [],
      "source": [
        "df = pd.concat([df,df_1, df_2, df_3, df_4, df_5, df_6], ignore_index=True)"
      ]
    },
    {
      "cell_type": "markdown",
      "metadata": {},
      "source": [
        "Добавление колонки с периодом"
      ]
    },
    {
      "cell_type": "code",
      "execution_count": 13,
      "metadata": {
        "colab": {
          "base_uri": "https://localhost:8080/"
        },
        "id": "O0Fbw5jHkkg2",
        "outputId": "c0d17e38-2509-4b5a-a4ba-31c406803f84"
      },
      "outputs": [
        {
          "name": "stderr",
          "output_type": "stream",
          "text": [
            "/tmp/ipykernel_27160/3889842781.py:6: PerformanceWarning: DataFrame is highly fragmented.  This is usually the result of calling `frame.insert` many times, which has poor performance.  Consider joining all columns at once using pd.concat(axis=1) instead. To get a de-fragmented frame, use `newframe = frame.copy()`\n",
            "  df[\"days_between\"] = df.groupby(\"serial_number\")[\"date\"].transform(\n"
          ]
        }
      ],
      "source": [
        "df = append_period_col(df)"
      ]
    },
    {
      "cell_type": "code",
      "execution_count": 14,
      "metadata": {
        "colab": {
          "base_uri": "https://localhost:8080/"
        },
        "id": "00aSlNQEYnOa",
        "outputId": "fc4b7ac9-a41f-46e9-d72b-110984fc72d6"
      },
      "outputs": [
        {
          "data": {
            "text/plain": [
              "(18843, 105)"
            ]
          },
          "execution_count": 14,
          "metadata": {},
          "output_type": "execute_result"
        }
      ],
      "source": [
        "df.shape"
      ]
    },
    {
      "cell_type": "code",
      "execution_count": 15,
      "metadata": {
        "colab": {
          "base_uri": "https://localhost:8080/",
          "height": 178
        },
        "id": "kd17LhgaYyEH",
        "outputId": "620a5626-2ab8-48e7-b0db-df507b9a69ff"
      },
      "outputs": [
        {
          "data": {
            "text/plain": [
              "failure\n",
              "1    9723\n",
              "0    9120\n",
              "Name: count, dtype: int64"
            ]
          },
          "execution_count": 15,
          "metadata": {},
          "output_type": "execute_result"
        }
      ],
      "source": [
        "df.failure.value_counts()"
      ]
    },
    {
      "cell_type": "code",
      "execution_count": 16,
      "metadata": {
        "id": "Y-oNdVD1kKaq"
      },
      "outputs": [],
      "source": [
        "output_path = 'df_2022_2024.csv'\n",
        "df.to_csv(output_path)#, single_file=True)"
      ]
    },
    {
      "cell_type": "code",
      "execution_count": 17,
      "metadata": {
        "colab": {
          "base_uri": "https://localhost:8080/",
          "height": 278
        },
        "id": "rsnWUnllNIt_",
        "outputId": "44eea9f5-cde8-44ea-a2e5-b666c817d2a7"
      },
      "outputs": [
        {
          "data": {
            "text/html": [
              "<div>\n",
              "<style scoped>\n",
              "    .dataframe tbody tr th:only-of-type {\n",
              "        vertical-align: middle;\n",
              "    }\n",
              "\n",
              "    .dataframe tbody tr th {\n",
              "        vertical-align: top;\n",
              "    }\n",
              "\n",
              "    .dataframe thead th {\n",
              "        text-align: right;\n",
              "    }\n",
              "</style>\n",
              "<table border=\"1\" class=\"dataframe\">\n",
              "  <thead>\n",
              "    <tr style=\"text-align: right;\">\n",
              "      <th></th>\n",
              "      <th>date</th>\n",
              "      <th>serial_number</th>\n",
              "      <th>model</th>\n",
              "      <th>capacity_bytes</th>\n",
              "      <th>failure</th>\n",
              "      <th>smart_1_raw</th>\n",
              "      <th>smart_2_raw</th>\n",
              "      <th>smart_3_raw</th>\n",
              "      <th>smart_4_raw</th>\n",
              "      <th>smart_5_raw</th>\n",
              "      <th>...</th>\n",
              "      <th>smart_71_raw</th>\n",
              "      <th>smart_90_raw</th>\n",
              "      <th>datacenter</th>\n",
              "      <th>cluster_id</th>\n",
              "      <th>pod_slot_num</th>\n",
              "      <th>smart_27_raw</th>\n",
              "      <th>smart_82_raw</th>\n",
              "      <th>smart_211_raw</th>\n",
              "      <th>smart_212_raw</th>\n",
              "      <th>days_between</th>\n",
              "    </tr>\n",
              "  </thead>\n",
              "  <tbody>\n",
              "    <tr>\n",
              "      <th>0</th>\n",
              "      <td>2022-01-28</td>\n",
              "      <td>10K0A0BWF97G</td>\n",
              "      <td>TOSHIBA MG07ACA14TA</td>\n",
              "      <td>14000519643136</td>\n",
              "      <td>1</td>\n",
              "      <td>0.00</td>\n",
              "      <td>0.00</td>\n",
              "      <td>2,597.00</td>\n",
              "      <td>186.00</td>\n",
              "      <td>0.00</td>\n",
              "      <td>...</td>\n",
              "      <td>NaN</td>\n",
              "      <td>NaN</td>\n",
              "      <td>NaN</td>\n",
              "      <td>NaN</td>\n",
              "      <td>NaN</td>\n",
              "      <td>NaN</td>\n",
              "      <td>NaN</td>\n",
              "      <td>NaN</td>\n",
              "      <td>NaN</td>\n",
              "      <td>27</td>\n",
              "    </tr>\n",
              "    <tr>\n",
              "      <th>1</th>\n",
              "      <td>2022-01-28</td>\n",
              "      <td>ZHZ62N5X</td>\n",
              "      <td>ST12000NM0008</td>\n",
              "      <td>12000138625024</td>\n",
              "      <td>1</td>\n",
              "      <td>230,825,528.00</td>\n",
              "      <td>NaN</td>\n",
              "      <td>0.00</td>\n",
              "      <td>5.00</td>\n",
              "      <td>208.00</td>\n",
              "      <td>...</td>\n",
              "      <td>NaN</td>\n",
              "      <td>NaN</td>\n",
              "      <td>NaN</td>\n",
              "      <td>NaN</td>\n",
              "      <td>NaN</td>\n",
              "      <td>NaN</td>\n",
              "      <td>NaN</td>\n",
              "      <td>NaN</td>\n",
              "      <td>NaN</td>\n",
              "      <td>27</td>\n",
              "    </tr>\n",
              "    <tr>\n",
              "      <th>2</th>\n",
              "      <td>2022-01-28</td>\n",
              "      <td>Z302SZP4</td>\n",
              "      <td>ST4000DM000</td>\n",
              "      <td>4000787030016</td>\n",
              "      <td>1</td>\n",
              "      <td>26,511,648.00</td>\n",
              "      <td>NaN</td>\n",
              "      <td>0.00</td>\n",
              "      <td>17.00</td>\n",
              "      <td>8.00</td>\n",
              "      <td>...</td>\n",
              "      <td>NaN</td>\n",
              "      <td>NaN</td>\n",
              "      <td>NaN</td>\n",
              "      <td>NaN</td>\n",
              "      <td>NaN</td>\n",
              "      <td>NaN</td>\n",
              "      <td>NaN</td>\n",
              "      <td>NaN</td>\n",
              "      <td>NaN</td>\n",
              "      <td>27</td>\n",
              "    </tr>\n",
              "    <tr>\n",
              "      <th>3</th>\n",
              "      <td>2022-01-28</td>\n",
              "      <td>ZLW18DZ3</td>\n",
              "      <td>ST14000NM001G</td>\n",
              "      <td>14000519643136</td>\n",
              "      <td>1</td>\n",
              "      <td>186,696,748.00</td>\n",
              "      <td>NaN</td>\n",
              "      <td>0.00</td>\n",
              "      <td>3.00</td>\n",
              "      <td>0.00</td>\n",
              "      <td>...</td>\n",
              "      <td>NaN</td>\n",
              "      <td>NaN</td>\n",
              "      <td>NaN</td>\n",
              "      <td>NaN</td>\n",
              "      <td>NaN</td>\n",
              "      <td>NaN</td>\n",
              "      <td>NaN</td>\n",
              "      <td>NaN</td>\n",
              "      <td>NaN</td>\n",
              "      <td>27</td>\n",
              "    </tr>\n",
              "    <tr>\n",
              "      <th>4</th>\n",
              "      <td>2022-01-28</td>\n",
              "      <td>Z305D2FN</td>\n",
              "      <td>ST4000DM000</td>\n",
              "      <td>4000787030016</td>\n",
              "      <td>1</td>\n",
              "      <td>169,787,688.00</td>\n",
              "      <td>NaN</td>\n",
              "      <td>0.00</td>\n",
              "      <td>14.00</td>\n",
              "      <td>8.00</td>\n",
              "      <td>...</td>\n",
              "      <td>NaN</td>\n",
              "      <td>NaN</td>\n",
              "      <td>NaN</td>\n",
              "      <td>NaN</td>\n",
              "      <td>NaN</td>\n",
              "      <td>NaN</td>\n",
              "      <td>NaN</td>\n",
              "      <td>NaN</td>\n",
              "      <td>NaN</td>\n",
              "      <td>27</td>\n",
              "    </tr>\n",
              "  </tbody>\n",
              "</table>\n",
              "<p>5 rows × 105 columns</p>\n",
              "</div>"
            ],
            "text/plain": [
              "        date serial_number                model  capacity_bytes  failure  \\\n",
              "0 2022-01-28  10K0A0BWF97G  TOSHIBA MG07ACA14TA  14000519643136        1   \n",
              "1 2022-01-28      ZHZ62N5X        ST12000NM0008  12000138625024        1   \n",
              "2 2022-01-28      Z302SZP4          ST4000DM000   4000787030016        1   \n",
              "3 2022-01-28      ZLW18DZ3        ST14000NM001G  14000519643136        1   \n",
              "4 2022-01-28      Z305D2FN          ST4000DM000   4000787030016        1   \n",
              "\n",
              "     smart_1_raw  smart_2_raw  smart_3_raw  smart_4_raw  smart_5_raw  ...  \\\n",
              "0           0.00         0.00     2,597.00       186.00         0.00  ...   \n",
              "1 230,825,528.00          NaN         0.00         5.00       208.00  ...   \n",
              "2  26,511,648.00          NaN         0.00        17.00         8.00  ...   \n",
              "3 186,696,748.00          NaN         0.00         3.00         0.00  ...   \n",
              "4 169,787,688.00          NaN         0.00        14.00         8.00  ...   \n",
              "\n",
              "   smart_71_raw  smart_90_raw  datacenter  cluster_id  pod_slot_num  \\\n",
              "0           NaN           NaN         NaN         NaN           NaN   \n",
              "1           NaN           NaN         NaN         NaN           NaN   \n",
              "2           NaN           NaN         NaN         NaN           NaN   \n",
              "3           NaN           NaN         NaN         NaN           NaN   \n",
              "4           NaN           NaN         NaN         NaN           NaN   \n",
              "\n",
              "   smart_27_raw  smart_82_raw  smart_211_raw  smart_212_raw  days_between  \n",
              "0           NaN           NaN            NaN            NaN            27  \n",
              "1           NaN           NaN            NaN            NaN            27  \n",
              "2           NaN           NaN            NaN            NaN            27  \n",
              "3           NaN           NaN            NaN            NaN            27  \n",
              "4           NaN           NaN            NaN            NaN            27  \n",
              "\n",
              "[5 rows x 105 columns]"
            ]
          },
          "execution_count": 17,
          "metadata": {},
          "output_type": "execute_result"
        }
      ],
      "source": [
        "df.head()"
      ]
    }
  ],
  "metadata": {
    "accelerator": "GPU",
    "colab": {
      "gpuType": "T4",
      "provenance": []
    },
    "kernelspec": {
      "display_name": "Python 3",
      "name": "python3"
    },
    "language_info": {
      "codemirror_mode": {
        "name": "ipython",
        "version": 3
      },
      "file_extension": ".py",
      "mimetype": "text/x-python",
      "name": "python",
      "nbconvert_exporter": "python",
      "pygments_lexer": "ipython3",
      "version": "3.10.12"
    }
  },
  "nbformat": 4,
  "nbformat_minor": 0
}
